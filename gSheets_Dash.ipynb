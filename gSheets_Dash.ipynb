{
 "cells": [
  {
   "cell_type": "code",
   "execution_count": 3,
   "id": "72eb902f-6c97-45ff-b928-c2952eb10097",
   "metadata": {},
   "outputs": [
    {
     "name": "stdout",
     "output_type": "stream",
     "text": [
      "Requirement already satisfied: requests in c:\\users\\gkers\\anaconda3\\envs\\dash_environment\\lib\\site-packages (2.31.0)\n",
      "Requirement already satisfied: pandas in c:\\users\\gkers\\anaconda3\\envs\\dash_environment\\lib\\site-packages (2.2.1)\n",
      "Requirement already satisfied: charset-normalizer<4,>=2 in c:\\users\\gkers\\anaconda3\\envs\\dash_environment\\lib\\site-packages (from requests) (3.3.2)\n",
      "Requirement already satisfied: idna<4,>=2.5 in c:\\users\\gkers\\anaconda3\\envs\\dash_environment\\lib\\site-packages (from requests) (3.4)\n",
      "Requirement already satisfied: urllib3<3,>=1.21.1 in c:\\users\\gkers\\anaconda3\\envs\\dash_environment\\lib\\site-packages (from requests) (2.1.0)\n",
      "Requirement already satisfied: certifi>=2017.4.17 in c:\\users\\gkers\\anaconda3\\envs\\dash_environment\\lib\\site-packages (from requests) (2024.2.2)\n",
      "Requirement already satisfied: numpy<2,>=1.23.2 in c:\\users\\gkers\\anaconda3\\envs\\dash_environment\\lib\\site-packages (from pandas) (1.26.4)\n",
      "Requirement already satisfied: python-dateutil>=2.8.2 in c:\\users\\gkers\\anaconda3\\envs\\dash_environment\\lib\\site-packages (from pandas) (2.8.2)\n",
      "Requirement already satisfied: pytz>=2020.1 in c:\\users\\gkers\\anaconda3\\envs\\dash_environment\\lib\\site-packages (from pandas) (2023.3.post1)\n",
      "Requirement already satisfied: tzdata>=2022.7 in c:\\users\\gkers\\anaconda3\\envs\\dash_environment\\lib\\site-packages (from pandas) (2023.3)\n",
      "Requirement already satisfied: six>=1.5 in c:\\users\\gkers\\anaconda3\\envs\\dash_environment\\lib\\site-packages (from python-dateutil>=2.8.2->pandas) (1.16.0)\n",
      "Note: you may need to restart the kernel to use updated packages.\n"
     ]
    }
   ],
   "source": [
    "pip install requests pandas\n"
   ]
  },
  {
   "cell_type": "code",
   "execution_count": 4,
   "id": "cd9adcbb-6fec-4953-810c-646ec5f2c324",
   "metadata": {},
   "outputs": [
    {
     "name": "stdout",
     "output_type": "stream",
     "text": [
      "Requirement already satisfied: gspread in c:\\users\\gkers\\anaconda3\\envs\\dash_environment\\lib\\site-packages (6.1.0)\n",
      "Requirement already satisfied: oauth2client in c:\\users\\gkers\\anaconda3\\envs\\dash_environment\\lib\\site-packages (4.1.3)\n",
      "Requirement already satisfied: google-auth>=1.12.0 in c:\\users\\gkers\\anaconda3\\envs\\dash_environment\\lib\\site-packages (from gspread) (2.29.0)\n",
      "Requirement already satisfied: google-auth-oauthlib>=0.4.1 in c:\\users\\gkers\\anaconda3\\envs\\dash_environment\\lib\\site-packages (from gspread) (1.2.0)\n",
      "Requirement already satisfied: StrEnum==0.4.15 in c:\\users\\gkers\\anaconda3\\envs\\dash_environment\\lib\\site-packages (from gspread) (0.4.15)\n",
      "Requirement already satisfied: httplib2>=0.9.1 in c:\\users\\gkers\\anaconda3\\envs\\dash_environment\\lib\\site-packages (from oauth2client) (0.22.0)\n",
      "Requirement already satisfied: pyasn1>=0.1.7 in c:\\users\\gkers\\anaconda3\\envs\\dash_environment\\lib\\site-packages (from oauth2client) (0.6.0)\n",
      "Requirement already satisfied: pyasn1-modules>=0.0.5 in c:\\users\\gkers\\anaconda3\\envs\\dash_environment\\lib\\site-packages (from oauth2client) (0.4.0)\n",
      "Requirement already satisfied: rsa>=3.1.4 in c:\\users\\gkers\\anaconda3\\envs\\dash_environment\\lib\\site-packages (from oauth2client) (4.9)\n",
      "Requirement already satisfied: six>=1.6.1 in c:\\users\\gkers\\anaconda3\\envs\\dash_environment\\lib\\site-packages (from oauth2client) (1.16.0)\n",
      "Requirement already satisfied: cachetools<6.0,>=2.0.0 in c:\\users\\gkers\\anaconda3\\envs\\dash_environment\\lib\\site-packages (from google-auth>=1.12.0->gspread) (5.3.3)\n",
      "Requirement already satisfied: requests-oauthlib>=0.7.0 in c:\\users\\gkers\\anaconda3\\envs\\dash_environment\\lib\\site-packages (from google-auth-oauthlib>=0.4.1->gspread) (2.0.0)\n",
      "Requirement already satisfied: pyparsing!=3.0.0,!=3.0.1,!=3.0.2,!=3.0.3,<4,>=2.4.2 in c:\\users\\gkers\\anaconda3\\envs\\dash_environment\\lib\\site-packages (from httplib2>=0.9.1->oauth2client) (3.1.2)\n",
      "Requirement already satisfied: oauthlib>=3.0.0 in c:\\users\\gkers\\anaconda3\\envs\\dash_environment\\lib\\site-packages (from requests-oauthlib>=0.7.0->google-auth-oauthlib>=0.4.1->gspread) (3.2.2)\n",
      "Requirement already satisfied: requests>=2.0.0 in c:\\users\\gkers\\anaconda3\\envs\\dash_environment\\lib\\site-packages (from requests-oauthlib>=0.7.0->google-auth-oauthlib>=0.4.1->gspread) (2.31.0)\n",
      "Requirement already satisfied: charset-normalizer<4,>=2 in c:\\users\\gkers\\anaconda3\\envs\\dash_environment\\lib\\site-packages (from requests>=2.0.0->requests-oauthlib>=0.7.0->google-auth-oauthlib>=0.4.1->gspread) (3.3.2)\n",
      "Requirement already satisfied: idna<4,>=2.5 in c:\\users\\gkers\\anaconda3\\envs\\dash_environment\\lib\\site-packages (from requests>=2.0.0->requests-oauthlib>=0.7.0->google-auth-oauthlib>=0.4.1->gspread) (3.4)\n",
      "Requirement already satisfied: urllib3<3,>=1.21.1 in c:\\users\\gkers\\anaconda3\\envs\\dash_environment\\lib\\site-packages (from requests>=2.0.0->requests-oauthlib>=0.7.0->google-auth-oauthlib>=0.4.1->gspread) (2.1.0)\n",
      "Requirement already satisfied: certifi>=2017.4.17 in c:\\users\\gkers\\anaconda3\\envs\\dash_environment\\lib\\site-packages (from requests>=2.0.0->requests-oauthlib>=0.7.0->google-auth-oauthlib>=0.4.1->gspread) (2024.2.2)\n",
      "Note: you may need to restart the kernel to use updated packages.\n"
     ]
    }
   ],
   "source": [
    "pip install gspread oauth2client\n"
   ]
  },
  {
   "cell_type": "code",
   "execution_count": 10,
   "id": "4aafb273-3b78-40de-ab5f-70150bc06d0d",
   "metadata": {},
   "outputs": [
    {
     "name": "stdout",
     "output_type": "stream",
     "text": [
      "   Node   Date Time Battery Voltage PV Input  Water Level Sleep Timer  \\\n",
      "0  N001  31924  200           12.95        0  2.578605262           0   \n",
      "1  N001  31924  300           12.91        0  2.788543963           0   \n",
      "2  N001  31924  400           12.87        0  2.604614269           0   \n",
      "3  N001  31924  500           12.83        0  2.622970332           0   \n",
      "4  N001  31924  600           12.82        0  2.065018361           0   \n",
      "\n",
      "  Date and time (UTC) Date and Time (Mountain Time)  \n",
      "0   3/19/2024 2:00:00            3/18/2024 20:00:00  \n",
      "1   3/19/2024 3:00:00            3/18/2024 21:00:00  \n",
      "2   3/19/2024 4:00:00            3/18/2024 22:00:00  \n",
      "3   3/19/2024 5:00:00            3/18/2024 23:00:00  \n",
      "4   3/19/2024 6:00:00             3/19/2024 0:00:00  \n"
     ]
    }
   ],
   "source": [
    "import gspread\n",
    "from oauth2client.service_account import ServiceAccountCredentials\n",
    "import pandas as pd\n",
    "\n",
    "# Use the same scope as before\n",
    "scope = ['https://spreadsheets.google.com/feeds','https://www.googleapis.com/auth/drive']\n",
    "\n",
    "# Use your downloaded json file with your Google API credentials\n",
    "creds = ServiceAccountCredentials.from_json_keyfile_name(r\"C:\\Users\\gkers\\Documents\\INTECH\\INTECH_GUI\\INTECH_GUI\\intechgui-68cb3ebdb2d2.json\", scope)\n",
    "client = gspread.authorize(creds)\n",
    "\n",
    "# Access the Google Sheet using the URL\n",
    "sheet_url = \"https://docs.google.com/spreadsheets/d/1GjohqGLEt4YdqblC8oNHTMAHO-nhVCfctuc1aBMH_4g/edit#gid=0\"  # Make sure to share your Google sheet with the client_email from the JSON file\n",
    "sheet = client.open_by_url(sheet_url)\n",
    "\n",
    "# Choose the right sheet or worksheet if there are multiple ones\n",
    "worksheet = sheet.get_worksheet(0)  # `0` refers to the first sheet within the spreadsheet\n",
    "\n",
    "# Get all the values from the sheet into a DataFrame\n",
    "data = worksheet.get_all_values()\n",
    "headers = data.pop(0)  # Assumes first row is header\n",
    "df = pd.DataFrame(data, columns=headers)\n",
    "\n",
    "# Now df has the data from the Google Sheet, proceed with your DataFrame manipulation as before\n",
    "\n",
    "# ... the rest of your code to process the DataFrame\n",
    "\n",
    "print(df.head())\n"
   ]
  },
  {
   "cell_type": "code",
   "execution_count": 11,
   "id": "700c4276-afd3-4ac4-bade-7124d6cdd21b",
   "metadata": {},
   "outputs": [
    {
     "data": {
      "text/html": [
       "\n",
       "        <iframe\n",
       "            width=\"100%\"\n",
       "            height=\"650\"\n",
       "            src=\"http://127.0.0.1:8051/\"\n",
       "            frameborder=\"0\"\n",
       "            allowfullscreen\n",
       "            \n",
       "        ></iframe>\n",
       "        "
      ],
      "text/plain": [
       "<IPython.lib.display.IFrame at 0x19100047250>"
      ]
     },
     "metadata": {},
     "output_type": "display_data"
    },
    {
     "name": "stdout",
     "output_type": "stream",
     "text": [
      "---------------------------------------------------------------------------\n",
      "NoLayoutException                         Traceback (most recent call last)\n",
      "NoLayoutException: The layout was `None` at the time that `run_server` was called.\n",
      "Make sure to set the `layout` attribute of your application\n",
      "before running the server.\n",
      "\n"
     ]
    },
    {
     "data": {
      "text/html": [
       "\n",
       "        <iframe\n",
       "            width=\"100%\"\n",
       "            height=\"650\"\n",
       "            src=\"http://127.0.0.1:8051/\"\n",
       "            frameborder=\"0\"\n",
       "            allowfullscreen\n",
       "            \n",
       "        ></iframe>\n",
       "        "
      ],
      "text/plain": [
       "<IPython.lib.display.IFrame at 0x1917f6baa10>"
      ]
     },
     "metadata": {},
     "output_type": "display_data"
    },
    {
     "ename": "AssertionError",
     "evalue": "The setup method 'errorhandler' can no longer be called on the application. It has already handled its first request, any changes will not be applied consistently.\nMake sure all imports, decorators, functions, etc. needed to set up the application are done before running it.",
     "output_type": "error",
     "traceback": [
      "\u001b[1;31m---------------------------------------------------------------------------\u001b[0m",
      "\u001b[1;31mAssertionError\u001b[0m                            Traceback (most recent call last)",
      "Cell \u001b[1;32mIn[11], line 53\u001b[0m\n\u001b[0;32m     36\u001b[0m app\u001b[38;5;241m.\u001b[39mlayout \u001b[38;5;241m=\u001b[39m html\u001b[38;5;241m.\u001b[39mDiv([\n\u001b[0;32m     37\u001b[0m     html\u001b[38;5;241m.\u001b[39mH1(\u001b[38;5;124m\"\u001b[39m\u001b[38;5;124mSensor Data Dashboard\u001b[39m\u001b[38;5;124m\"\u001b[39m),\n\u001b[0;32m     38\u001b[0m     dcc\u001b[38;5;241m.\u001b[39mGraph(\n\u001b[1;32m   (...)\u001b[0m\n\u001b[0;32m     49\u001b[0m     )\n\u001b[0;32m     50\u001b[0m ])\n\u001b[0;32m     52\u001b[0m \u001b[38;5;28;01mif\u001b[39;00m \u001b[38;5;18m__name__\u001b[39m \u001b[38;5;241m==\u001b[39m \u001b[38;5;124m'\u001b[39m\u001b[38;5;124m__main__\u001b[39m\u001b[38;5;124m'\u001b[39m:\n\u001b[1;32m---> 53\u001b[0m     app\u001b[38;5;241m.\u001b[39mrun_server(debug\u001b[38;5;241m=\u001b[39m\u001b[38;5;28;01mTrue\u001b[39;00m)\n",
      "File \u001b[1;32m~\\anaconda3\\envs\\dash_environment\\Lib\\site-packages\\dash\\dash.py:2223\u001b[0m, in \u001b[0;36mDash.run_server\u001b[1;34m(self, *args, **kwargs)\u001b[0m\n\u001b[0;32m   2217\u001b[0m \u001b[38;5;28;01mdef\u001b[39;00m \u001b[38;5;21mrun_server\u001b[39m(\u001b[38;5;28mself\u001b[39m, \u001b[38;5;241m*\u001b[39margs, \u001b[38;5;241m*\u001b[39m\u001b[38;5;241m*\u001b[39mkwargs):\n\u001b[0;32m   2218\u001b[0m \u001b[38;5;250m    \u001b[39m\u001b[38;5;124;03m\"\"\"`run_server` is a deprecated alias of `run` and may be removed in a\u001b[39;00m\n\u001b[0;32m   2219\u001b[0m \u001b[38;5;124;03m    future version. We recommend using `app.run` instead.\u001b[39;00m\n\u001b[0;32m   2220\u001b[0m \n\u001b[0;32m   2221\u001b[0m \u001b[38;5;124;03m    See `app.run` for usage information.\u001b[39;00m\n\u001b[0;32m   2222\u001b[0m \u001b[38;5;124;03m    \"\"\"\u001b[39;00m\n\u001b[1;32m-> 2223\u001b[0m     \u001b[38;5;28mself\u001b[39m\u001b[38;5;241m.\u001b[39mrun(\u001b[38;5;241m*\u001b[39margs, \u001b[38;5;241m*\u001b[39m\u001b[38;5;241m*\u001b[39mkwargs)\n",
      "File \u001b[1;32m~\\anaconda3\\envs\\dash_environment\\Lib\\site-packages\\dash\\dash.py:2045\u001b[0m, in \u001b[0;36mDash.run\u001b[1;34m(self, host, port, proxy, debug, jupyter_mode, jupyter_width, jupyter_height, jupyter_server_url, dev_tools_ui, dev_tools_props_check, dev_tools_serve_dev_bundles, dev_tools_hot_reload, dev_tools_hot_reload_interval, dev_tools_hot_reload_watch_interval, dev_tools_hot_reload_max_retry, dev_tools_silence_routes_logging, dev_tools_prune_errors, **flask_run_options)\u001b[0m\n\u001b[0;32m   2042\u001b[0m \u001b[38;5;28;01mif\u001b[39;00m debug \u001b[38;5;129;01mis\u001b[39;00m \u001b[38;5;28;01mNone\u001b[39;00m:\n\u001b[0;32m   2043\u001b[0m     debug \u001b[38;5;241m=\u001b[39m get_combined_config(\u001b[38;5;124m\"\u001b[39m\u001b[38;5;124mdebug\u001b[39m\u001b[38;5;124m\"\u001b[39m, \u001b[38;5;28;01mNone\u001b[39;00m, \u001b[38;5;28;01mFalse\u001b[39;00m)\n\u001b[1;32m-> 2045\u001b[0m debug \u001b[38;5;241m=\u001b[39m \u001b[38;5;28mself\u001b[39m\u001b[38;5;241m.\u001b[39menable_dev_tools(\n\u001b[0;32m   2046\u001b[0m     debug,\n\u001b[0;32m   2047\u001b[0m     dev_tools_ui,\n\u001b[0;32m   2048\u001b[0m     dev_tools_props_check,\n\u001b[0;32m   2049\u001b[0m     dev_tools_serve_dev_bundles,\n\u001b[0;32m   2050\u001b[0m     dev_tools_hot_reload,\n\u001b[0;32m   2051\u001b[0m     dev_tools_hot_reload_interval,\n\u001b[0;32m   2052\u001b[0m     dev_tools_hot_reload_watch_interval,\n\u001b[0;32m   2053\u001b[0m     dev_tools_hot_reload_max_retry,\n\u001b[0;32m   2054\u001b[0m     dev_tools_silence_routes_logging,\n\u001b[0;32m   2055\u001b[0m     dev_tools_prune_errors,\n\u001b[0;32m   2056\u001b[0m )\n\u001b[0;32m   2058\u001b[0m \u001b[38;5;66;03m# Verify port value\u001b[39;00m\n\u001b[0;32m   2059\u001b[0m \u001b[38;5;28;01mtry\u001b[39;00m:\n",
      "File \u001b[1;32m~\\anaconda3\\envs\\dash_environment\\Lib\\site-packages\\dash\\dash.py:1815\u001b[0m, in \u001b[0;36mDash.enable_dev_tools\u001b[1;34m(self, debug, dev_tools_ui, dev_tools_props_check, dev_tools_serve_dev_bundles, dev_tools_hot_reload, dev_tools_hot_reload_interval, dev_tools_hot_reload_watch_interval, dev_tools_hot_reload_max_retry, dev_tools_silence_routes_logging, dev_tools_prune_errors)\u001b[0m\n\u001b[0;32m   1813\u001b[0m \u001b[38;5;28;01mif\u001b[39;00m debug:\n\u001b[0;32m   1814\u001b[0m     \u001b[38;5;28;01mif\u001b[39;00m jupyter_dash\u001b[38;5;241m.\u001b[39mactive:\n\u001b[1;32m-> 1815\u001b[0m         jupyter_dash\u001b[38;5;241m.\u001b[39mconfigure_callback_exception_handling(\n\u001b[0;32m   1816\u001b[0m             \u001b[38;5;28mself\u001b[39m, dev_tools\u001b[38;5;241m.\u001b[39mprune_errors\n\u001b[0;32m   1817\u001b[0m         )\n\u001b[0;32m   1818\u001b[0m     \u001b[38;5;28;01melif\u001b[39;00m dev_tools\u001b[38;5;241m.\u001b[39mprune_errors:\n\u001b[0;32m   1819\u001b[0m         secret \u001b[38;5;241m=\u001b[39m gen_salt(\u001b[38;5;241m20\u001b[39m)\n",
      "File \u001b[1;32m~\\anaconda3\\envs\\dash_environment\\Lib\\site-packages\\dash\\_jupyter.py:446\u001b[0m, in \u001b[0;36mJupyterDash.configure_callback_exception_handling\u001b[1;34m(self, app, dev_tools_prune_errors)\u001b[0m\n\u001b[0;32m    443\u001b[0m \u001b[38;5;28;01mdef\u001b[39;00m \u001b[38;5;21mconfigure_callback_exception_handling\u001b[39m(\u001b[38;5;28mself\u001b[39m, app, dev_tools_prune_errors):\n\u001b[0;32m    444\u001b[0m \u001b[38;5;250m    \u001b[39m\u001b[38;5;124;03m\"\"\"Install traceback handling for callbacks\"\"\"\u001b[39;00m\n\u001b[1;32m--> 446\u001b[0m     \u001b[38;5;129m@app\u001b[39m\u001b[38;5;241m.\u001b[39mserver\u001b[38;5;241m.\u001b[39merrorhandler(\u001b[38;5;167;01mException\u001b[39;00m)\n\u001b[0;32m    447\u001b[0m     \u001b[38;5;28;01mdef\u001b[39;00m \u001b[38;5;21m_wrap_errors\u001b[39m(error):\n\u001b[0;32m    448\u001b[0m         \u001b[38;5;66;03m# Compute number of stack frames to skip to get down to callback\u001b[39;00m\n\u001b[0;32m    449\u001b[0m         skip \u001b[38;5;241m=\u001b[39m _get_skip(error) \u001b[38;5;28;01mif\u001b[39;00m dev_tools_prune_errors \u001b[38;5;28;01melse\u001b[39;00m \u001b[38;5;241m0\u001b[39m\n\u001b[0;32m    451\u001b[0m         \u001b[38;5;66;03m# Customized formatargvalues function we can place function parameters\u001b[39;00m\n\u001b[0;32m    452\u001b[0m         \u001b[38;5;66;03m# on separate lines\u001b[39;00m\n",
      "File \u001b[1;32m~\\anaconda3\\envs\\dash_environment\\Lib\\site-packages\\flask\\sansio\\scaffold.py:45\u001b[0m, in \u001b[0;36msetupmethod.<locals>.wrapper_func\u001b[1;34m(self, *args, **kwargs)\u001b[0m\n\u001b[0;32m     44\u001b[0m \u001b[38;5;28;01mdef\u001b[39;00m \u001b[38;5;21mwrapper_func\u001b[39m(\u001b[38;5;28mself\u001b[39m: Scaffold, \u001b[38;5;241m*\u001b[39margs: t\u001b[38;5;241m.\u001b[39mAny, \u001b[38;5;241m*\u001b[39m\u001b[38;5;241m*\u001b[39mkwargs: t\u001b[38;5;241m.\u001b[39mAny) \u001b[38;5;241m-\u001b[39m\u001b[38;5;241m>\u001b[39m t\u001b[38;5;241m.\u001b[39mAny:\n\u001b[1;32m---> 45\u001b[0m     \u001b[38;5;28mself\u001b[39m\u001b[38;5;241m.\u001b[39m_check_setup_finished(f_name)\n\u001b[0;32m     46\u001b[0m     \u001b[38;5;28;01mreturn\u001b[39;00m f(\u001b[38;5;28mself\u001b[39m, \u001b[38;5;241m*\u001b[39margs, \u001b[38;5;241m*\u001b[39m\u001b[38;5;241m*\u001b[39mkwargs)\n",
      "File \u001b[1;32m~\\anaconda3\\envs\\dash_environment\\Lib\\site-packages\\flask\\sansio\\app.py:419\u001b[0m, in \u001b[0;36mApp._check_setup_finished\u001b[1;34m(self, f_name)\u001b[0m\n\u001b[0;32m    417\u001b[0m \u001b[38;5;28;01mdef\u001b[39;00m \u001b[38;5;21m_check_setup_finished\u001b[39m(\u001b[38;5;28mself\u001b[39m, f_name: \u001b[38;5;28mstr\u001b[39m) \u001b[38;5;241m-\u001b[39m\u001b[38;5;241m>\u001b[39m \u001b[38;5;28;01mNone\u001b[39;00m:\n\u001b[0;32m    418\u001b[0m     \u001b[38;5;28;01mif\u001b[39;00m \u001b[38;5;28mself\u001b[39m\u001b[38;5;241m.\u001b[39m_got_first_request:\n\u001b[1;32m--> 419\u001b[0m         \u001b[38;5;28;01mraise\u001b[39;00m \u001b[38;5;167;01mAssertionError\u001b[39;00m(\n\u001b[0;32m    420\u001b[0m             \u001b[38;5;124mf\u001b[39m\u001b[38;5;124m\"\u001b[39m\u001b[38;5;124mThe setup method \u001b[39m\u001b[38;5;124m'\u001b[39m\u001b[38;5;132;01m{\u001b[39;00mf_name\u001b[38;5;132;01m}\u001b[39;00m\u001b[38;5;124m'\u001b[39m\u001b[38;5;124m can no longer be called\u001b[39m\u001b[38;5;124m\"\u001b[39m\n\u001b[0;32m    421\u001b[0m             \u001b[38;5;124m\"\u001b[39m\u001b[38;5;124m on the application. It has already handled its first\u001b[39m\u001b[38;5;124m\"\u001b[39m\n\u001b[0;32m    422\u001b[0m             \u001b[38;5;124m\"\u001b[39m\u001b[38;5;124m request, any changes will not be applied\u001b[39m\u001b[38;5;124m\"\u001b[39m\n\u001b[0;32m    423\u001b[0m             \u001b[38;5;124m\"\u001b[39m\u001b[38;5;124m consistently.\u001b[39m\u001b[38;5;130;01m\\n\u001b[39;00m\u001b[38;5;124m\"\u001b[39m\n\u001b[0;32m    424\u001b[0m             \u001b[38;5;124m\"\u001b[39m\u001b[38;5;124mMake sure all imports, decorators, functions, etc.\u001b[39m\u001b[38;5;124m\"\u001b[39m\n\u001b[0;32m    425\u001b[0m             \u001b[38;5;124m\"\u001b[39m\u001b[38;5;124m needed to set up the application are done before\u001b[39m\u001b[38;5;124m\"\u001b[39m\n\u001b[0;32m    426\u001b[0m             \u001b[38;5;124m\"\u001b[39m\u001b[38;5;124m running it.\u001b[39m\u001b[38;5;124m\"\u001b[39m\n\u001b[0;32m    427\u001b[0m         )\n",
      "\u001b[1;31mAssertionError\u001b[0m: The setup method 'errorhandler' can no longer be called on the application. It has already handled its first request, any changes will not be applied consistently.\nMake sure all imports, decorators, functions, etc. needed to set up the application are done before running it."
     ]
    }
   ],
   "source": [
    "import dash\n",
    "from dash import dcc, html\n",
    "import plotly.express as px\n",
    "import requests\n",
    "import pandas as pd\n",
    "import base64\n",
    "\n",
    "app = dash.Dash(__name__)\n",
    "\n",
    "# Define your layout here\n",
    "app.layout = html.Div([\n",
    "    # Your layout components go here\n",
    "    html.H1(\"Dashboard Title\"),\n",
    "    dcc.Graph(id='example-graph'),\n",
    "    # More components as needed\n",
    "])\n",
    "\n",
    "# More app callbacks and logic can be defined here\n",
    "\n",
    "if __name__ == '__main__':\n",
    "    # This should always be at the end of your script to ensure layout is defined\n",
    "    app.run_server(debug=True, port=8051)\n",
    "# Convert columns to numeric as necessary\n",
    "df['Battery Voltage'] = pd.to_numeric(df['Battery Voltage'], errors='coerce')\n",
    "df['PV Input'] = pd.to_numeric(df['PV Input'], errors='coerce')\n",
    "df['Water Level'] = pd.to_numeric(df['Water Level'], errors='coerce')\n",
    "\n",
    "# Convert 'Date and time (UTC)' to datetime\n",
    "df['Date and time (UTC)'] = pd.to_datetime(df['Date and time (UTC)'])\n",
    "\n",
    "# Create a Dash application\n",
    "app = dash.Dash(__name__)\n",
    "if __name__ == '__main__':\n",
    "    app.run_server(debug=True, port=8051)\n",
    "\n",
    "app.layout = html.Div([\n",
    "    html.H1(\"Sensor Data Dashboard\"),\n",
    "    dcc.Graph(\n",
    "        id='battery-voltage-plot',\n",
    "        figure=px.line(df, x='Date and time (UTC)', y='Battery Voltage', title='Battery Voltage Over Time')\n",
    "    ),\n",
    "    dcc.Graph(\n",
    "        id='pv-input-plot',\n",
    "        figure=px.line(df, x='Date and time (UTC)', y='PV Input', title='PV Input Over Time')\n",
    "    ),\n",
    "    dcc.Graph(\n",
    "        id='water-level-plot',\n",
    "        figure=px.line(df, x='Date and time (UTC)', y='Water Level', title='Water Level Height Over Time')\n",
    "    )\n",
    "])\n",
    "\n",
    "if __name__ == '__main__':\n",
    "    app.run_server(debug=True)\n"
   ]
  },
  {
   "cell_type": "code",
   "execution_count": null,
   "id": "33e037f4-d004-4b82-baa3-4d4ae5a4c3d4",
   "metadata": {},
   "outputs": [],
   "source": []
  },
  {
   "cell_type": "code",
   "execution_count": null,
   "id": "4e817ebf-60cb-40a3-a9e3-b7399a5a61eb",
   "metadata": {},
   "outputs": [],
   "source": []
  }
 ],
 "metadata": {
  "kernelspec": {
   "display_name": "Python 3 (ipykernel)",
   "language": "python",
   "name": "python3"
  },
  "language_info": {
   "codemirror_mode": {
    "name": "ipython",
    "version": 3
   },
   "file_extension": ".py",
   "mimetype": "text/x-python",
   "name": "python",
   "nbconvert_exporter": "python",
   "pygments_lexer": "ipython3",
   "version": "3.11.8"
  }
 },
 "nbformat": 4,
 "nbformat_minor": 5
}
