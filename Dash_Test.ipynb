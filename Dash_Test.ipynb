{
 "cells": [
  {
   "cell_type": "code",
   "execution_count": 38,
   "id": "1c6868ab-f558-4399-8ead-9512390045b2",
   "metadata": {},
   "outputs": [
    {
     "name": "stdout",
     "output_type": "stream",
     "text": [
      "Requirement already satisfied: requests in c:\\users\\gkers\\anaconda3\\envs\\dash_environment\\lib\\site-packages (2.31.0)Note: you may need to restart the kernel to use updated packages.\n",
      "\n",
      "Requirement already satisfied: pandas in c:\\users\\gkers\\anaconda3\\envs\\dash_environment\\lib\\site-packages (2.2.1)\n",
      "Requirement already satisfied: charset-normalizer<4,>=2 in c:\\users\\gkers\\anaconda3\\envs\\dash_environment\\lib\\site-packages (from requests) (3.3.2)\n",
      "Requirement already satisfied: idna<4,>=2.5 in c:\\users\\gkers\\anaconda3\\envs\\dash_environment\\lib\\site-packages (from requests) (3.4)\n",
      "Requirement already satisfied: urllib3<3,>=1.21.1 in c:\\users\\gkers\\anaconda3\\envs\\dash_environment\\lib\\site-packages (from requests) (2.1.0)\n",
      "Requirement already satisfied: certifi>=2017.4.17 in c:\\users\\gkers\\anaconda3\\envs\\dash_environment\\lib\\site-packages (from requests) (2024.2.2)\n",
      "Requirement already satisfied: numpy<2,>=1.23.2 in c:\\users\\gkers\\anaconda3\\envs\\dash_environment\\lib\\site-packages (from pandas) (1.26.4)\n",
      "Requirement already satisfied: python-dateutil>=2.8.2 in c:\\users\\gkers\\anaconda3\\envs\\dash_environment\\lib\\site-packages (from pandas) (2.8.2)\n",
      "Requirement already satisfied: pytz>=2020.1 in c:\\users\\gkers\\anaconda3\\envs\\dash_environment\\lib\\site-packages (from pandas) (2023.3.post1)\n",
      "Requirement already satisfied: tzdata>=2022.7 in c:\\users\\gkers\\anaconda3\\envs\\dash_environment\\lib\\site-packages (from pandas) (2023.3)\n",
      "Requirement already satisfied: six>=1.5 in c:\\users\\gkers\\anaconda3\\envs\\dash_environment\\lib\\site-packages (from python-dateutil>=2.8.2->pandas) (1.16.0)\n"
     ]
    }
   ],
   "source": [
    "pip install requests pandas\n"
   ]
  },
  {
   "cell_type": "code",
   "execution_count": 39,
   "id": "3b403810-334f-420a-b5b4-fd9d7214c3ad",
   "metadata": {},
   "outputs": [
    {
     "ename": "ValueError",
     "evalue": "Length mismatch: Expected axis has 16 elements, new values have 7 elements",
     "output_type": "error",
     "traceback": [
      "\u001b[1;31m---------------------------------------------------------------------------\u001b[0m",
      "\u001b[1;31mValueError\u001b[0m                                Traceback (most recent call last)",
      "Cell \u001b[1;32mIn[39], line 33\u001b[0m\n\u001b[0;32m     30\u001b[0m df \u001b[38;5;241m=\u001b[39m pd\u001b[38;5;241m.\u001b[39mDataFrame(data_rows)\n\u001b[0;32m     32\u001b[0m \u001b[38;5;66;03m# Define DataFrame columns\u001b[39;00m\n\u001b[1;32m---> 33\u001b[0m df\u001b[38;5;241m.\u001b[39mcolumns \u001b[38;5;241m=\u001b[39m [\u001b[38;5;124m'\u001b[39m\u001b[38;5;124mNode\u001b[39m\u001b[38;5;124m'\u001b[39m, \u001b[38;5;124m'\u001b[39m\u001b[38;5;124mDate\u001b[39m\u001b[38;5;124m'\u001b[39m, \u001b[38;5;124m'\u001b[39m\u001b[38;5;124mTime\u001b[39m\u001b[38;5;124m'\u001b[39m, \u001b[38;5;124m'\u001b[39m\u001b[38;5;124mBattery Voltage\u001b[39m\u001b[38;5;124m'\u001b[39m, \u001b[38;5;124m'\u001b[39m\u001b[38;5;124mPV Input\u001b[39m\u001b[38;5;124m'\u001b[39m, \u001b[38;5;124m'\u001b[39m\u001b[38;5;124mEmpty\u001b[39m\u001b[38;5;124m'\u001b[39m, \u001b[38;5;124m'\u001b[39m\u001b[38;5;124mSleep Status\u001b[39m\u001b[38;5;124m'\u001b[39m]\n\u001b[0;32m     35\u001b[0m \u001b[38;5;66;03m# Correctly constructing the 'DateTime' string in 'YYYY-MM-DD HH:MM:SS' format\u001b[39;00m\n\u001b[0;32m     36\u001b[0m \u001b[38;5;66;03m# This time ensuring the correct order of year, month, and day\u001b[39;00m\n\u001b[0;32m     37\u001b[0m df[\u001b[38;5;124m'\u001b[39m\u001b[38;5;124mDateTime\u001b[39m\u001b[38;5;124m'\u001b[39m] \u001b[38;5;241m=\u001b[39m \u001b[38;5;124m'\u001b[39m\u001b[38;5;124m20\u001b[39m\u001b[38;5;124m'\u001b[39m \u001b[38;5;241m+\u001b[39m df[\u001b[38;5;124m'\u001b[39m\u001b[38;5;124mDate\u001b[39m\u001b[38;5;124m'\u001b[39m]\u001b[38;5;241m.\u001b[39mstr[\u001b[38;5;241m-\u001b[39m\u001b[38;5;241m2\u001b[39m:] \u001b[38;5;241m+\u001b[39m \u001b[38;5;124m'\u001b[39m\u001b[38;5;124m-\u001b[39m\u001b[38;5;124m'\u001b[39m \u001b[38;5;241m+\u001b[39m df[\u001b[38;5;124m'\u001b[39m\u001b[38;5;124mDate\u001b[39m\u001b[38;5;124m'\u001b[39m]\u001b[38;5;241m.\u001b[39mstr[:\u001b[38;5;241m2\u001b[39m] \u001b[38;5;241m+\u001b[39m \u001b[38;5;124m'\u001b[39m\u001b[38;5;124m-\u001b[39m\u001b[38;5;124m'\u001b[39m \u001b[38;5;241m+\u001b[39m df[\u001b[38;5;124m'\u001b[39m\u001b[38;5;124mDate\u001b[39m\u001b[38;5;124m'\u001b[39m]\u001b[38;5;241m.\u001b[39mstr[\u001b[38;5;241m2\u001b[39m:\u001b[38;5;241m4\u001b[39m] \u001b[38;5;241m+\u001b[39m \u001b[38;5;124m'\u001b[39m\u001b[38;5;124m \u001b[39m\u001b[38;5;124m'\u001b[39m \u001b[38;5;241m+\u001b[39m df[\u001b[38;5;124m'\u001b[39m\u001b[38;5;124mTime\u001b[39m\u001b[38;5;124m'\u001b[39m]\u001b[38;5;241m.\u001b[39mstr[:\u001b[38;5;241m2\u001b[39m] \u001b[38;5;241m+\u001b[39m \u001b[38;5;124m'\u001b[39m\u001b[38;5;124m:\u001b[39m\u001b[38;5;124m'\u001b[39m \u001b[38;5;241m+\u001b[39m df[\u001b[38;5;124m'\u001b[39m\u001b[38;5;124mTime\u001b[39m\u001b[38;5;124m'\u001b[39m]\u001b[38;5;241m.\u001b[39mstr[\u001b[38;5;241m2\u001b[39m:] \u001b[38;5;241m+\u001b[39m \u001b[38;5;124m'\u001b[39m\u001b[38;5;124m:00\u001b[39m\u001b[38;5;124m'\u001b[39m\n",
      "File \u001b[1;32m~\\anaconda3\\envs\\dash_environment\\Lib\\site-packages\\pandas\\core\\generic.py:6310\u001b[0m, in \u001b[0;36mNDFrame.__setattr__\u001b[1;34m(self, name, value)\u001b[0m\n\u001b[0;32m   6308\u001b[0m \u001b[38;5;28;01mtry\u001b[39;00m:\n\u001b[0;32m   6309\u001b[0m     \u001b[38;5;28mobject\u001b[39m\u001b[38;5;241m.\u001b[39m\u001b[38;5;21m__getattribute__\u001b[39m(\u001b[38;5;28mself\u001b[39m, name)\n\u001b[1;32m-> 6310\u001b[0m     \u001b[38;5;28;01mreturn\u001b[39;00m \u001b[38;5;28mobject\u001b[39m\u001b[38;5;241m.\u001b[39m\u001b[38;5;21m__setattr__\u001b[39m(\u001b[38;5;28mself\u001b[39m, name, value)\n\u001b[0;32m   6311\u001b[0m \u001b[38;5;28;01mexcept\u001b[39;00m \u001b[38;5;167;01mAttributeError\u001b[39;00m:\n\u001b[0;32m   6312\u001b[0m     \u001b[38;5;28;01mpass\u001b[39;00m\n",
      "File \u001b[1;32mproperties.pyx:69\u001b[0m, in \u001b[0;36mpandas._libs.properties.AxisProperty.__set__\u001b[1;34m()\u001b[0m\n",
      "File \u001b[1;32m~\\anaconda3\\envs\\dash_environment\\Lib\\site-packages\\pandas\\core\\generic.py:813\u001b[0m, in \u001b[0;36mNDFrame._set_axis\u001b[1;34m(self, axis, labels)\u001b[0m\n\u001b[0;32m    808\u001b[0m \u001b[38;5;250m\u001b[39m\u001b[38;5;124;03m\"\"\"\u001b[39;00m\n\u001b[0;32m    809\u001b[0m \u001b[38;5;124;03mThis is called from the cython code when we set the `index` attribute\u001b[39;00m\n\u001b[0;32m    810\u001b[0m \u001b[38;5;124;03mdirectly, e.g. `series.index = [1, 2, 3]`.\u001b[39;00m\n\u001b[0;32m    811\u001b[0m \u001b[38;5;124;03m\"\"\"\u001b[39;00m\n\u001b[0;32m    812\u001b[0m labels \u001b[38;5;241m=\u001b[39m ensure_index(labels)\n\u001b[1;32m--> 813\u001b[0m \u001b[38;5;28mself\u001b[39m\u001b[38;5;241m.\u001b[39m_mgr\u001b[38;5;241m.\u001b[39mset_axis(axis, labels)\n\u001b[0;32m    814\u001b[0m \u001b[38;5;28mself\u001b[39m\u001b[38;5;241m.\u001b[39m_clear_item_cache()\n",
      "File \u001b[1;32m~\\anaconda3\\envs\\dash_environment\\Lib\\site-packages\\pandas\\core\\internals\\managers.py:238\u001b[0m, in \u001b[0;36mBaseBlockManager.set_axis\u001b[1;34m(self, axis, new_labels)\u001b[0m\n\u001b[0;32m    236\u001b[0m \u001b[38;5;28;01mdef\u001b[39;00m \u001b[38;5;21mset_axis\u001b[39m(\u001b[38;5;28mself\u001b[39m, axis: AxisInt, new_labels: Index) \u001b[38;5;241m-\u001b[39m\u001b[38;5;241m>\u001b[39m \u001b[38;5;28;01mNone\u001b[39;00m:\n\u001b[0;32m    237\u001b[0m     \u001b[38;5;66;03m# Caller is responsible for ensuring we have an Index object.\u001b[39;00m\n\u001b[1;32m--> 238\u001b[0m     \u001b[38;5;28mself\u001b[39m\u001b[38;5;241m.\u001b[39m_validate_set_axis(axis, new_labels)\n\u001b[0;32m    239\u001b[0m     \u001b[38;5;28mself\u001b[39m\u001b[38;5;241m.\u001b[39maxes[axis] \u001b[38;5;241m=\u001b[39m new_labels\n",
      "File \u001b[1;32m~\\anaconda3\\envs\\dash_environment\\Lib\\site-packages\\pandas\\core\\internals\\base.py:98\u001b[0m, in \u001b[0;36mDataManager._validate_set_axis\u001b[1;34m(self, axis, new_labels)\u001b[0m\n\u001b[0;32m     95\u001b[0m     \u001b[38;5;28;01mpass\u001b[39;00m\n\u001b[0;32m     97\u001b[0m \u001b[38;5;28;01melif\u001b[39;00m new_len \u001b[38;5;241m!=\u001b[39m old_len:\n\u001b[1;32m---> 98\u001b[0m     \u001b[38;5;28;01mraise\u001b[39;00m \u001b[38;5;167;01mValueError\u001b[39;00m(\n\u001b[0;32m     99\u001b[0m         \u001b[38;5;124mf\u001b[39m\u001b[38;5;124m\"\u001b[39m\u001b[38;5;124mLength mismatch: Expected axis has \u001b[39m\u001b[38;5;132;01m{\u001b[39;00mold_len\u001b[38;5;132;01m}\u001b[39;00m\u001b[38;5;124m elements, new \u001b[39m\u001b[38;5;124m\"\u001b[39m\n\u001b[0;32m    100\u001b[0m         \u001b[38;5;124mf\u001b[39m\u001b[38;5;124m\"\u001b[39m\u001b[38;5;124mvalues have \u001b[39m\u001b[38;5;132;01m{\u001b[39;00mnew_len\u001b[38;5;132;01m}\u001b[39;00m\u001b[38;5;124m elements\u001b[39m\u001b[38;5;124m\"\u001b[39m\n\u001b[0;32m    101\u001b[0m     )\n",
      "\u001b[1;31mValueError\u001b[0m: Length mismatch: Expected axis has 16 elements, new values have 7 elements"
     ]
    }
   ],
   "source": [
    "import requests\n",
    "import pandas as pd\n",
    "import base64\n",
    "\n",
    "# Swarm API details\n",
    "login_url = 'https://bumblebee.hive.swarm.space/hive/login'\n",
    "message_url = 'https://bumblebee.hive.swarm.space/hive/api/v1/messages'\n",
    "username = 'INTECH'  # Replace with your username\n",
    "password = 'InTechSWARM'  # Replace with your password\n",
    "queryParams = '?status=2&count=1000'  # Adjust parameters as needed\n",
    "\n",
    "# Login to Swarm\n",
    "login_response = requests.post(login_url, data={'username': username, 'password': password})\n",
    "cookie = login_response.headers['Set-Cookie']\n",
    "\n",
    "# Fetch messages\n",
    "full_message_url = message_url + queryParams\n",
    "message_response = requests.get(full_message_url, headers={'Cookie': cookie})\n",
    "messages = message_response.json()\n",
    "\n",
    "# Decode and prepare data\n",
    "data_rows = []\n",
    "if messages:\n",
    "    for message in messages:\n",
    "        decoded_data = base64.b64decode(message['data']).decode('utf-8')\n",
    "        data_variables = [item.zfill(4) for item in decoded_data.split(' ')]  # Pad and split data\n",
    "        data_rows.append(data_variables)\n",
    "\n",
    "# Convert to DataFrame\n",
    "df = pd.DataFrame(data_rows)\n",
    "\n",
    "# Define DataFrame columns\n",
    "df.columns = ['Node', 'Date', 'Time', 'Battery Voltage', 'PV Input', 'Empty', 'Sleep Status']\n",
    "\n",
    "# Correctly constructing the 'DateTime' string in 'YYYY-MM-DD HH:MM:SS' format\n",
    "# This time ensuring the correct order of year, month, and day\n",
    "df['DateTime'] = '20' + df['Date'].str[-2:] + '-' + df['Date'].str[:2] + '-' + df['Date'].str[2:4] + ' ' + df['Time'].str[:2] + ':' + df['Time'].str[2:] + ':00'\n",
    "\n",
    "# Convert 'DateTime' strings to datetime objects\n",
    "df['DateTime'] = pd.to_datetime(df['DateTime'], errors='coerce')\n",
    "\n",
    "# Check for any NaT values in 'DateTime' to ensure all conversions were successful\n",
    "print(df[df['DateTime'].isna()])\n",
    "\n",
    "# Set 'DateTime' as the index\n",
    "df.set_index('DateTime', inplace=True)\n",
    "\n",
    "# Drop the original 'Date' and 'Time' columns as they are now redundant\n",
    "df.drop(columns=['Date', 'Time'], inplace=True)\n",
    "\n",
    "# Assuming df is your DataFrame with 'DateTime' as the index and 'Battery Voltage' among the columns\n",
    "df.sort_index(inplace=True)\n",
    "\n",
    "# Display the DataFrame to confirm the changes\n",
    "print(df.head())\n",
    "\n",
    "# Convert 'Battery Voltage' to a numeric type (float)\n",
    "df['Battery Voltage'] = pd.to_numeric(df['Battery Voltage'], errors='coerce')\n",
    "\n",
    "# Check for any NaN values that result from conversion issues\n",
    "print(df[df['Battery Voltage'].isna()])\n",
    "\n"
   ]
  },
  {
   "cell_type": "code",
   "execution_count": 40,
   "id": "5bc4c528-50c2-405f-8331-1388d3729b22",
   "metadata": {},
   "outputs": [
    {
     "ename": "KeyError",
     "evalue": "'Node'",
     "output_type": "error",
     "traceback": [
      "\u001b[1;31m---------------------------------------------------------------------------\u001b[0m",
      "\u001b[1;31mKeyError\u001b[0m                                  Traceback (most recent call last)",
      "Cell \u001b[1;32mIn[40], line 14\u001b[0m\n\u001b[0;32m      4\u001b[0m \u001b[38;5;28;01mimport\u001b[39;00m \u001b[38;5;21;01mplotly\u001b[39;00m\u001b[38;5;21;01m.\u001b[39;00m\u001b[38;5;21;01mexpress\u001b[39;00m \u001b[38;5;28;01mas\u001b[39;00m \u001b[38;5;21;01mpx\u001b[39;00m\n\u001b[0;32m      6\u001b[0m app \u001b[38;5;241m=\u001b[39m dash\u001b[38;5;241m.\u001b[39mDash(\u001b[38;5;18m__name__\u001b[39m)\n\u001b[0;32m      8\u001b[0m app\u001b[38;5;241m.\u001b[39mlayout \u001b[38;5;241m=\u001b[39m html\u001b[38;5;241m.\u001b[39mDiv([\n\u001b[0;32m      9\u001b[0m     html\u001b[38;5;241m.\u001b[39mH1(\u001b[38;5;124m\"\u001b[39m\u001b[38;5;124mBattery Voltage Over Time\u001b[39m\u001b[38;5;124m\"\u001b[39m),\n\u001b[0;32m     10\u001b[0m     dcc\u001b[38;5;241m.\u001b[39mGraph(\u001b[38;5;28mid\u001b[39m\u001b[38;5;241m=\u001b[39m\u001b[38;5;124m\"\u001b[39m\u001b[38;5;124mline-plot\u001b[39m\u001b[38;5;124m\"\u001b[39m),\n\u001b[0;32m     11\u001b[0m     html\u001b[38;5;241m.\u001b[39mP(\u001b[38;5;124m\"\u001b[39m\u001b[38;5;124mSelect Node:\u001b[39m\u001b[38;5;124m\"\u001b[39m),\n\u001b[0;32m     12\u001b[0m     dcc\u001b[38;5;241m.\u001b[39mDropdown(\n\u001b[0;32m     13\u001b[0m         \u001b[38;5;28mid\u001b[39m\u001b[38;5;241m=\u001b[39m\u001b[38;5;124m'\u001b[39m\u001b[38;5;124mnode-dropdown\u001b[39m\u001b[38;5;124m'\u001b[39m,\n\u001b[1;32m---> 14\u001b[0m         options\u001b[38;5;241m=\u001b[39m[{\u001b[38;5;124m'\u001b[39m\u001b[38;5;124mlabel\u001b[39m\u001b[38;5;124m'\u001b[39m: node, \u001b[38;5;124m'\u001b[39m\u001b[38;5;124mvalue\u001b[39m\u001b[38;5;124m'\u001b[39m: node} \u001b[38;5;28;01mfor\u001b[39;00m node \u001b[38;5;129;01min\u001b[39;00m df[\u001b[38;5;124m'\u001b[39m\u001b[38;5;124mNode\u001b[39m\u001b[38;5;124m'\u001b[39m]\u001b[38;5;241m.\u001b[39munique()],\n\u001b[0;32m     15\u001b[0m         value\u001b[38;5;241m=\u001b[39mdf[\u001b[38;5;124m'\u001b[39m\u001b[38;5;124mNode\u001b[39m\u001b[38;5;124m'\u001b[39m]\u001b[38;5;241m.\u001b[39munique()[\u001b[38;5;241m0\u001b[39m],  \u001b[38;5;66;03m# Default value\u001b[39;00m\n\u001b[0;32m     16\u001b[0m         clearable\u001b[38;5;241m=\u001b[39m\u001b[38;5;28;01mFalse\u001b[39;00m,\n\u001b[0;32m     17\u001b[0m     ),\n\u001b[0;32m     18\u001b[0m ])\n\u001b[0;32m     20\u001b[0m \u001b[38;5;129m@app\u001b[39m\u001b[38;5;241m.\u001b[39mcallback(\n\u001b[0;32m     21\u001b[0m     Output(\u001b[38;5;124m\"\u001b[39m\u001b[38;5;124mline-plot\u001b[39m\u001b[38;5;124m\"\u001b[39m, \u001b[38;5;124m\"\u001b[39m\u001b[38;5;124mfigure\u001b[39m\u001b[38;5;124m\"\u001b[39m),\n\u001b[0;32m     22\u001b[0m     [Input(\u001b[38;5;124m\"\u001b[39m\u001b[38;5;124mnode-dropdown\u001b[39m\u001b[38;5;124m\"\u001b[39m, \u001b[38;5;124m\"\u001b[39m\u001b[38;5;124mvalue\u001b[39m\u001b[38;5;124m\"\u001b[39m)]\n\u001b[0;32m     23\u001b[0m )\n\u001b[0;32m     24\u001b[0m \u001b[38;5;28;01mdef\u001b[39;00m \u001b[38;5;21mupdate_line_chart\u001b[39m(selected_node):\n\u001b[0;32m     25\u001b[0m     filtered_df \u001b[38;5;241m=\u001b[39m df[df[\u001b[38;5;124m'\u001b[39m\u001b[38;5;124mNode\u001b[39m\u001b[38;5;124m'\u001b[39m] \u001b[38;5;241m==\u001b[39m selected_node]\n",
      "File \u001b[1;32m~\\anaconda3\\envs\\dash_environment\\Lib\\site-packages\\pandas\\core\\frame.py:4090\u001b[0m, in \u001b[0;36mDataFrame.__getitem__\u001b[1;34m(self, key)\u001b[0m\n\u001b[0;32m   4088\u001b[0m \u001b[38;5;28;01mif\u001b[39;00m \u001b[38;5;28mself\u001b[39m\u001b[38;5;241m.\u001b[39mcolumns\u001b[38;5;241m.\u001b[39mnlevels \u001b[38;5;241m>\u001b[39m \u001b[38;5;241m1\u001b[39m:\n\u001b[0;32m   4089\u001b[0m     \u001b[38;5;28;01mreturn\u001b[39;00m \u001b[38;5;28mself\u001b[39m\u001b[38;5;241m.\u001b[39m_getitem_multilevel(key)\n\u001b[1;32m-> 4090\u001b[0m indexer \u001b[38;5;241m=\u001b[39m \u001b[38;5;28mself\u001b[39m\u001b[38;5;241m.\u001b[39mcolumns\u001b[38;5;241m.\u001b[39mget_loc(key)\n\u001b[0;32m   4091\u001b[0m \u001b[38;5;28;01mif\u001b[39;00m is_integer(indexer):\n\u001b[0;32m   4092\u001b[0m     indexer \u001b[38;5;241m=\u001b[39m [indexer]\n",
      "File \u001b[1;32m~\\anaconda3\\envs\\dash_environment\\Lib\\site-packages\\pandas\\core\\indexes\\range.py:417\u001b[0m, in \u001b[0;36mRangeIndex.get_loc\u001b[1;34m(self, key)\u001b[0m\n\u001b[0;32m    415\u001b[0m         \u001b[38;5;28;01mraise\u001b[39;00m \u001b[38;5;167;01mKeyError\u001b[39;00m(key) \u001b[38;5;28;01mfrom\u001b[39;00m \u001b[38;5;21;01merr\u001b[39;00m\n\u001b[0;32m    416\u001b[0m \u001b[38;5;28;01mif\u001b[39;00m \u001b[38;5;28misinstance\u001b[39m(key, Hashable):\n\u001b[1;32m--> 417\u001b[0m     \u001b[38;5;28;01mraise\u001b[39;00m \u001b[38;5;167;01mKeyError\u001b[39;00m(key)\n\u001b[0;32m    418\u001b[0m \u001b[38;5;28mself\u001b[39m\u001b[38;5;241m.\u001b[39m_check_indexing_error(key)\n\u001b[0;32m    419\u001b[0m \u001b[38;5;28;01mraise\u001b[39;00m \u001b[38;5;167;01mKeyError\u001b[39;00m(key)\n",
      "\u001b[1;31mKeyError\u001b[0m: 'Node'"
     ]
    }
   ],
   "source": [
    "import dash\n",
    "from dash import dcc, html\n",
    "from dash.dependencies import Input, Output\n",
    "import plotly.express as px\n",
    "\n",
    "app = dash.Dash(__name__)\n",
    "\n",
    "app.layout = html.Div([\n",
    "    html.H1(\"Battery Voltage Over Time\"),\n",
    "    dcc.Graph(id=\"line-plot\"),\n",
    "    html.P(\"Select Node:\"),\n",
    "    dcc.Dropdown(\n",
    "        id='node-dropdown',\n",
    "        options=[{'label': node, 'value': node} for node in df['Node'].unique()],\n",
    "        value=df['Node'].unique()[0],  # Default value\n",
    "        clearable=False,\n",
    "    ),\n",
    "])\n",
    "\n",
    "@app.callback(\n",
    "    Output(\"line-plot\", \"figure\"),\n",
    "    [Input(\"node-dropdown\", \"value\")]\n",
    ")\n",
    "def update_line_chart(selected_node):\n",
    "    filtered_df = df[df['Node'] == selected_node]\n",
    "    fig = px.line(filtered_df, y=\"Battery Voltage\", title=f\"Battery Voltage for Node {selected_node}\")\n",
    "    fig.update_xaxes(title_text='DateTime')\n",
    "    fig.update_yaxes(title_text='Battery Voltage (V)')\n",
    "    return fig\n",
    "\n",
    "if __name__ == '__main__':\n",
    "    app.run_server(debug=True)\n"
   ]
  },
  {
   "cell_type": "code",
   "execution_count": null,
   "id": "f1a1017f-ab86-4eb6-8f9a-416dd2ae01fe",
   "metadata": {},
   "outputs": [],
   "source": [
    "print(df.describe())\n"
   ]
  },
  {
   "cell_type": "code",
   "execution_count": 41,
   "id": "ad326d54-45f1-4713-85de-ffca7dc747a2",
   "metadata": {},
   "outputs": [
    {
     "name": "stdout",
     "output_type": "stream",
     "text": [
      "                     Node  Battery Voltage  PV Input  Sleep Timer\n",
      "DateTime                                                         \n",
      "2024-03-18 20:00:00  N001            13.73         3            0\n",
      "2024-03-18 21:00:00  N001            13.71         3            0\n",
      "2024-03-18 22:00:00  N001            13.68         3            0\n",
      "2024-03-19 23:00:00  N001            13.69         3            0\n",
      "2024-03-19 00:00:00  N001            13.68         2            0\n"
     ]
    }
   ],
   "source": [
    "import pandas as pd\n",
    "import base64\n",
    "\n",
    "# Simulated base64-encoded messages in the format \"Node, DateTime, Battery Voltage, PV Input, Sleep Timer\"\n",
    "encoded_messages = [\n",
    "    base64.b64encode(b'N001,240318T2000Z,13.73,3,0'),\n",
    "    base64.b64encode(b'N001,240318T2100Z,13.71,3,0'),\n",
    "    base64.b64encode(b'N001,240318T2200Z,13.68,3,0'),\n",
    "    base64.b64encode(b'N001,240319T2300Z,13.69,3,0'),\n",
    "    base64.b64encode(b'N001,240319T0000Z,13.68,2,0'),\n",
    "    # Add more messages as needed\n",
    "]\n",
    "\n",
    "# Decode messages and prepare data\n",
    "data_rows = []\n",
    "for msg in encoded_messages:\n",
    "    decoded_data = base64.b64decode(msg).decode('utf-8')\n",
    "    data_rows.append(decoded_data.split(','))\n",
    "\n",
    "# Convert to DataFrame\n",
    "df = pd.DataFrame(data_rows, columns=['Node', 'DateTime', 'Battery Voltage', 'PV Input', 'Sleep Timer'])\n",
    "\n",
    "# Convert 'DateTime' strings to datetime objects using the compact format\n",
    "df['DateTime'] = pd.to_datetime(df['DateTime'], format='%y%m%dT%H%MZ', errors='coerce')\n",
    "\n",
    "# Set 'DateTime' as the index\n",
    "df.set_index('DateTime', inplace=True)\n",
    "\n",
    "# Convert 'Battery Voltage', 'PV Input', and 'Sleep Timer' to numeric types\n",
    "df['Battery Voltage'] = pd.to_numeric(df['Battery Voltage'])\n",
    "df['PV Input'] = pd.to_numeric(df['PV Input'])\n",
    "df['Sleep Timer'] = pd.to_numeric(df['Sleep Timer'])\n",
    "\n",
    "# Display the DataFrame to confirm the changes\n",
    "print(df.head())\n"
   ]
  },
  {
   "cell_type": "code",
   "execution_count": 42,
   "id": "a63b5e0c-43ab-4ea8-a7ac-15935b2c8182",
   "metadata": {},
   "outputs": [
    {
     "data": {
      "text/html": [
       "\n",
       "        <iframe\n",
       "            width=\"100%\"\n",
       "            height=\"650\"\n",
       "            src=\"http://127.0.0.1:8050/\"\n",
       "            frameborder=\"0\"\n",
       "            allowfullscreen\n",
       "            \n",
       "        ></iframe>\n",
       "        "
      ],
      "text/plain": [
       "<IPython.lib.display.IFrame at 0x2176a4614d0>"
      ]
     },
     "metadata": {},
     "output_type": "display_data"
    }
   ],
   "source": [
    "import dash\n",
    "from dash import dcc, html\n",
    "from dash.dependencies import Input, Output\n",
    "import plotly.express as px\n",
    "\n",
    "# Assuming df is your DataFrame with 'DateTime' as the index and 'Battery Voltage' among the columns\n",
    "df.sort_index(inplace=True)\n",
    "\n",
    "app = dash.Dash(__name__)\n",
    "\n",
    "app.layout = html.Div([\n",
    "    html.H1(\"Battery Voltage Over Time\"),\n",
    "    dcc.Graph(id=\"line-plot\"),\n",
    "    html.P(\"Select Node:\"),\n",
    "    dcc.Dropdown(\n",
    "        id='node-dropdown',\n",
    "        options=[{'label': node, 'value': node} for node in df['Node'].unique()],\n",
    "        value=df['Node'].unique()[0],  # Default value\n",
    "        clearable=False,\n",
    "    ),\n",
    "])\n",
    "\n",
    "@app.callback(\n",
    "    Output(\"line-plot\", \"figure\"),\n",
    "    [Input(\"node-dropdown\", \"value\")]\n",
    ")\n",
    "def update_line_chart(selected_node):\n",
    "    filtered_df = df[df['Node'] == selected_node]\n",
    "    fig = px.line(filtered_df, y=\"Battery Voltage\", title=f\"Battery Voltage for Node {selected_node}\")\n",
    "    fig.update_xaxes(title_text='DateTime')\n",
    "    fig.update_yaxes(title_text='Battery Voltage (V)')\n",
    "    return fig\n",
    "\n",
    "if __name__ == '__main__':\n",
    "    app.run_server(debug=True)\n"
   ]
  },
  {
   "cell_type": "code",
   "execution_count": null,
   "id": "f2370231-bc2d-462b-aa80-72c8067f1d61",
   "metadata": {},
   "outputs": [],
   "source": []
  }
 ],
 "metadata": {
  "kernelspec": {
   "display_name": "Python 3 (ipykernel)",
   "language": "python",
   "name": "python3"
  },
  "language_info": {
   "codemirror_mode": {
    "name": "ipython",
    "version": 3
   },
   "file_extension": ".py",
   "mimetype": "text/x-python",
   "name": "python",
   "nbconvert_exporter": "python",
   "pygments_lexer": "ipython3",
   "version": "3.11.8"
  }
 },
 "nbformat": 4,
 "nbformat_minor": 5
}
